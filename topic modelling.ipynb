{
 "cells": [
  {
   "cell_type": "code",
   "execution_count": 2,
   "id": "0158b1be-6e90-4d2a-bc4a-8bbf9a23839b",
   "metadata": {},
   "outputs": [],
   "source": [
    "from transformers import AutoModelForSequenceClassification, TFAutoModelForSequenceClassification\n",
    "from transformers import AutoTokenizer\n",
    "import numpy as np\n",
    "from scipy.special import expit\n",
    "\n",
    "    \n"
   ]
  },
  {
   "cell_type": "code",
   "execution_count": 11,
   "id": "8fc3d3b4-f62b-4bb6-abf9-c8b3746b14c7",
   "metadata": {},
   "outputs": [],
   "source": [
    "# huuggin face topic modelling\n",
    "# tweet-topic-21-multi\n",
    "MODEL = f\"cardiffnlp/tweet-topic-21-multi\"\n",
    "tokenizer = AutoTokenizer.from_pretrained(MODEL)\n",
    "model = AutoModelForSequenceClassification.from_pretrained(MODEL)\n",
    "text = \"It is great to see athletes promoting awareness for climate change.\"\n",
    "class_mapping = model.config.id2label\n",
    "def topic_modelling(model, class_mapping, text):\n",
    "    print(class_mapping)\n",
    "    tokens = tokenizer(text, return_tensors='pt')\n",
    "    output = model(**tokens)\n",
    "    \n",
    "    scores = output[0][0].detach().numpy()\n",
    "    scores = expit(scores)\n",
    "    predictions = (scores >= 0.5) * 1\n",
    "    \n",
    "    # Map to classes\n",
    "    for i in range(len(predictions)):\n",
    "        if predictions[i]:\n",
    "            print(class_mapping[i])\n",
    "            return class_mapping[i]"
   ]
  },
  {
   "cell_type": "code",
   "execution_count": 12,
   "id": "3f920169-cf5e-4f1c-aa4c-4a3fea80f322",
   "metadata": {},
   "outputs": [
    {
     "name": "stdout",
     "output_type": "stream",
     "text": [
      "{0: 'arts_&_culture', 1: 'business_&_entrepreneurs', 2: 'celebrity_&_pop_culture', 3: 'diaries_&_daily_life', 4: 'family', 5: 'fashion_&_style', 6: 'film_tv_&_video', 7: 'fitness_&_health', 8: 'food_&_dining', 9: 'gaming', 10: 'learning_&_educational', 11: 'music', 12: 'news_&_social_concern', 13: 'other_hobbies', 14: 'relationships', 15: 'science_&_technology', 16: 'sports', 17: 'travel_&_adventure', 18: 'youth_&_student_life'}\n",
      "news_&_social_concern\n"
     ]
    }
   ],
   "source": [
    "classified_class = topic_modelling(model, class_mapping, text)"
   ]
  },
  {
   "cell_type": "code",
   "execution_count": null,
   "id": "9e5a82da-7993-4daa-a0e9-9cd3efc86695",
   "metadata": {},
   "outputs": [],
   "source": []
  }
 ],
 "metadata": {
  "kernelspec": {
   "display_name": "Python 3 (ipykernel)",
   "language": "python",
   "name": "python3"
  },
  "language_info": {
   "codemirror_mode": {
    "name": "ipython",
    "version": 3
   },
   "file_extension": ".py",
   "mimetype": "text/x-python",
   "name": "python",
   "nbconvert_exporter": "python",
   "pygments_lexer": "ipython3",
   "version": "3.11.7"
  }
 },
 "nbformat": 4,
 "nbformat_minor": 5
}
